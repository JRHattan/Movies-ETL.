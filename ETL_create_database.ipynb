{
  "nbformat": 4,
  "nbformat_minor": 0,
  "metadata": {
    "colab": {
      "name": "ETL_create_database",
      "provenance": []
    },
    "kernelspec": {
      "name": "python3",
      "display_name": "Python 3"
    }
  },
  "cells": [
    {
      "cell_type": "code",
      "metadata": {
        "id": "QZhmfFloGQNA",
        "colab_type": "code",
        "colab": {}
      },
      "source": [
        "import json\n",
        "import pandas as pd\n",
        "import numpy as np\n",
        "\n",
        "import re\n",
        "\n",
        "from sqlalchemy import create_engine\n",
        "import psycopg2\n",
        "\n",
        "from config import db_password\n",
        "\n",
        "import time\n",
        "#code also needs an ngrok server"
      ],
      "execution_count": null,
      "outputs": []
    },
    {
      "cell_type": "code",
      "metadata": {
        "id": "zxBhim5rGtEH",
        "colab_type": "code",
        "colab": {}
      },
      "source": [
        "#  Add the clean movie function that takes in the argument, \"movie\".\n",
        "def clean_movie(movie):\n",
        "    movie = dict(movie) #create a non-destructive copy\n",
        "    alt_titles = {}\n",
        "    for key in ['Also known as','Arabic','Cantonese','Chinese','French',\n",
        "                'Hangul','Hebrew','Hepburn','Japanese','Literally',\n",
        "                'Mandarin','McCune–Reischauer','Original title','Polish',\n",
        "                'Revised Romanization','Romanized','Russian',\n",
        "                'Simplified','Traditional','Yiddish']:\n",
        "        if key in movie:\n",
        "            alt_titles[key] = movie[key]\n",
        "            movie.pop(key)\n",
        "    if len(alt_titles) > 0:\n",
        "        movie['alt_titles'] = alt_titles\n",
        "\n",
        "        # merge column names\n",
        "    def change_column_name(old_name, new_name):\n",
        "        if old_name in movie:\n",
        "            movie[new_name] = movie.pop(old_name)\n",
        "    change_column_name('Adaptation by', 'Writer(s)')\n",
        "    change_column_name('Country of origin', 'Country')\n",
        "    change_column_name('Directed by', 'Director')\n",
        "    change_column_name('Distributed by', 'Distributor')\n",
        "    change_column_name('Edited by', 'Editor(s)')\n",
        "    change_column_name('Length', 'Running time')\n",
        "    change_column_name('Original release', 'Release date')\n",
        "    change_column_name('Music by', 'Composer(s)')\n",
        "    change_column_name('Produced by', 'Producer(s)')\n",
        "    change_column_name('Producer', 'Producer(s)')\n",
        "    change_column_name('Productioncompanies ', 'Production company(s)')\n",
        "    change_column_name('Productioncompany ', 'Production company(s)')\n",
        "    change_column_name('Released', 'Release Date')\n",
        "    change_column_name('Release Date', 'Release date')\n",
        "    change_column_name('Screen story by', 'Writer(s)')\n",
        "    change_column_name('Screenplay by', 'Writer(s)')\n",
        "    change_column_name('Story by', 'Writer(s)')\n",
        "    change_column_name('Theme music composer', 'Composer(s)')\n",
        "    change_column_name('Written by', 'Writer(s)')\n",
        "\n",
        "    return movie"
      ],
      "execution_count": null,
      "outputs": []
    },
    {
      "cell_type": "code",
      "metadata": {
        "id": "YOeMdKkoHQPR",
        "colab_type": "code",
        "colab": {}
      },
      "source": [
        "# 2 Add the function that takes in three arguments;\n",
        "# Wikipedia data, Kaggle metadata, and MovieLens rating data (from Kaggle)\n",
        "\n",
        "def new_function():\n",
        "    # Read in the kaggle metadata and MovieLens ratings CSV files as Pandas DataFrames.\n",
        "    kaggle_metadata = pd.read_csv('movies_metadata.csv')\n",
        "    ratings = pd.read_csv('ratings.csv')\n",
        "    # Open and read the Wikipedia data JSON file.\n",
        "    with open('wikipedia-movies.json', mode='r') as file:\n",
        "        wiki_movies_raw = json.load(file)\n",
        "    wiki_movies = [movie for movie in wiki_movies_raw\n",
        "        if ('Director' in movie or 'Directed by' in movie)\n",
        "            and 'imdb_link' in movie\n",
        "            and 'No. of episodes' not in movie]\n",
        "    # 3. Write a list comprehension to filter out TV shows.\n",
        "    wiki_movies = [movie for movie in wiki_movies_raw\n",
        "        if 'No. of episodes' not in movie]\n",
        "    # 4. Write a list comprehension to iterate through the cleaned wiki movies list\n",
        "    # and call the clean_movie function on each movie.\n",
        "    clean_movies = [clean_movie(movie) for movie in wiki_movies]\n",
        "    # 5. Read in the cleaned movies list from Step 4 as a DataFrame.\n",
        "    wiki_movies_df = pd.DataFrame(clean_movies)\n",
        "    # 6. Write a try-except block to catch errors while extracting the IMDb ID using a regular expression string and\n",
        "    #  dropping any imdb_id duplicates. If there is an error, capture and print the exception.\n",
        "    try:\n",
        "        wiki_movies_df['imdb_id'] = wiki_movies_df['imdb_link'].str.extract(r'(tt\\d{7})')\n",
        "        wiki_movies_df.drop_duplicates(subset ='imdb_link', inplace=True)\n",
        "    except Exception as e:\n",
        "        print(e)\n",
        "    #  7. Write a list comprehension to keep the columns that don't have null values from the wiki_movies_df DataFrame.    \n",
        "    wiki_columns_to_keep = [column for column in wiki_movies_df.columns if wiki_movies_df[column].isnull().sum() < len(wiki_movies_df) * 0.9]\n",
        "    wiki_movies_df = wiki_movies_df[wiki_columns_to_keep]\n",
        "    # 8. Create a variable that will hold the non-null values from the “Box office” column.\n",
        "    box_office = wiki_movies_df['Box office'].dropna()    \n",
        "    # 9. Convert the box office data created in Step 8 to string values using the lambda and join functions.\n",
        "    box_office = box_office.apply(lambda x: ' '.join(x) if type(x) == list else x)\n",
        "    # 10. Write a regular expression to match the six elements of \"form_one\" of the box office data.\n",
        "    form_one = r'\\$\\s*\\d+\\.?\\d*\\s*[mb]illi?on'\n",
        "    # 11. Write a regular expression to match the three elements of \"form_two\" of the box office data.\n",
        "    form_two = r'\\$\\s*\\d{1,3}(?:[,\\.]\\d{3})+(?!\\s[mb]illion)'\n",
        "    # 12. Add the parse_dollars function.\n",
        "    def parse_dollars(s):\n",
        "    # if s is not a string, return NaN\n",
        "        if type(s) != str:\n",
        "            return np.nan\n",
        "    # if input is of the form $###.# million\n",
        "        if re.match(r'\\$\\s*\\d+\\.?\\d*\\s*milli?on', s, flags=re.IGNORECASE):\n",
        "        # remove dollar sign and \" million\"\n",
        "            s = re.sub('\\$|\\s|[a-zA-Z]','', s)\n",
        "        # convert to float and multiply by a million\n",
        "            value = float(s) * 10**6\n",
        "        # return value\n",
        "            return value\n",
        "    # if input is of the form $###.# billion\n",
        "        elif re.match(r'\\$\\s*\\d+\\.?\\d*\\s*billi?on', s, flags=re.IGNORECASE):\n",
        "        # remove dollar sign and \" billion\"\n",
        "            s = re.sub('\\$|\\s|[a-zA-Z]','', s)\n",
        "        # convert to float and multiply by a billion\n",
        "            value = float(s) * 10**9\n",
        "        # return value\n",
        "            return value\n",
        "    # if input is of the form $###,###,###\n",
        "        elif re.match(r'\\$\\s*\\d{1,3}(?:[,\\.]\\d{3})+(?!\\s[mb]illion)', s, flags=re.IGNORECASE):\n",
        "        # remove dollar sign and commas\n",
        "            s = re.sub('\\$|,','', s)\n",
        "        # convert to float\n",
        "            value = float(s)\n",
        "        # return value\n",
        "            return value\n",
        "    # otherwise, return NaN\n",
        "        else:\n",
        "            return np.nan      \n",
        "    # 13. Clean the box office column in the wiki_movies_df DataFrame.\n",
        "    wiki_movies_df['box_office'] = box_office.str.extract(f'({form_one}|{form_two})', flags=re.IGNORECASE)[0].apply(parse_dollars)\n",
        "    wiki_movies_df.drop('Box office', axis=1, inplace=True)\n",
        "    # 14. Clean the budget column in the wiki_movies_df DataFrame.\n",
        "    budget = wiki_movies_df['Budget'].dropna()\n",
        "    budget = budget.map(lambda x: ' '.join(x) if type(x) == list else x)\n",
        "    budget = budget.str.replace(r'\\$.*[-—–](?![a-z])', '$', regex=True)\n",
        "    matches_form_one = budget.str.contains(form_one, flags=re.IGNORECASE)\n",
        "    matches_form_two = budget.str.contains(form_two, flags=re.IGNORECASE)\n",
        "    budget[~matches_form_one & ~matches_form_two]\n",
        "    budget = budget.str.replace(r'\\[\\d+\\]\\s*', '')\n",
        "    wiki_movies_df['budget'] = budget.str.extract(f'({form_one}|{form_two})', flags=re.IGNORECASE)[0].apply(parse_dollars)\n",
        "    wiki_movies_df.drop('Budget', axis=1, inplace=True)\n",
        "    # 15. Clean the release date column in the wiki_movies_df DataFrame.\n",
        "    release_date = wiki_movies_df['Release date'].dropna().apply(lambda x: ' '.join(x) if type(x) == list else x)\n",
        "    date_form_one = r'(?:January|February|March|April|May|June|July|August|September|October|November|December)\\s[123]\\d,\\s\\d{4}'\n",
        "    date_form_two = r'\\d{4}.[01]\\d.[123]\\d'\n",
        "    date_form_three = r'(?:January|February|March|April|May|June|July|August|September|October|November|December)\\s\\d{4}'\n",
        "    date_form_four = r'\\d{4}'\n",
        "    release_date.str.extract(f'({date_form_one}|{date_form_two}|{date_form_three}|{date_form_four})', flags=re.IGNORECASE)\n",
        "    wiki_movies_df['release_date'] = pd.to_datetime(release_date.str.extract(f'({date_form_one}|{date_form_two}|{date_form_three}|{date_form_four})')[0], infer_datetime_format=True)\n",
        "    wiki_movies_df.drop('release_date', axis=1, inplace=True)\n",
        "    # 16. Clean the running time column in the wiki_movies_df DataFrame.\n",
        "    running_time = wiki_movies_df['Running time'].dropna().apply(lambda x: ' '.join(x) if type(x) == list else x)\n",
        "    running_time.str.contains(r'^\\d*\\s*minutes$', flags=re.IGNORECASE).sum()\n",
        "    running_time.str.contains(r'^\\d*\\s*m', flags=re.IGNORECASE).sum()\n",
        "    running_time_extract = running_time.str.extract(r'(\\d+)\\s*ho?u?r?s?\\s*(\\d*)|(\\d+)\\s*m')\n",
        "    running_time_extract = running_time_extract.apply(lambda col: pd.to_numeric(col, errors='coerce')).fillna(0)\n",
        "    wiki_movies_df['running_time'] = running_time_extract.apply(lambda row: row[0]*60 + row[1] if row[2] == 0 else row[2], axis=1)\n",
        "    wiki_movies_df.drop('Running time', axis=1, inplace=True)\n",
        "    pd.to_datetime(ratings['timestamp'], unit='s')\n",
        "    ratings['timestamp'] = pd.to_datetime(ratings['timestamp'], unit='s')\n",
        "    # 2. Clean the Kaggle metadata.\n",
        "    kaggle_metadata = kaggle_metadata[kaggle_metadata['adult'] == 'False'].drop('adult',axis='columns')\n",
        "    kaggle_metadata['video'] = kaggle_metadata['video'] == 'True'\n",
        "    kaggle_metadata['budget'] = kaggle_metadata['budget'].astype(int)\n",
        "    kaggle_metadata['id'] = pd.to_numeric(kaggle_metadata['id'], errors='raise')\n",
        "    kaggle_metadata['popularity'] = pd.to_numeric(kaggle_metadata['popularity'], errors='raise')\n",
        "    kaggle_metadata['release_date'] = pd.to_datetime(kaggle_metadata['release_date'])\n",
        "    # 3. Merge the two DataFrames into the movies DataFrame.\n",
        "    movies_df = pd.merge(wiki_movies_df, kaggle_metadata, on='imdb_id', suffixes=['_wiki','_kaggle'])\n",
        "    # 4. Drop unnecessary columns from the merged DataFrame.\n",
        "    movies_df[(movies_df['release_date_wiki'] > '1996-01-01') & (movies_df['release_date_kaggle'] < '1965-01-01')].index\n",
        "    movies_df = movies_df.drop(movies_df[(movies_df['release_date_wiki'] > '1996-01-01') & (movies_df['release_date_kaggle'] < '1965-01-01')].index)\n",
        "    movies_df.drop(columns=['title_wiki','release_date_wiki','Language','Production company(s)'], inplace=True)\n",
        "    # 5. Add in the function to fill in the missing Kaggle data.\n",
        "    def fill_missing_kaggle_data(df, kaggle_column, wiki_column):\n",
        "        df[kaggle_column] = df.apply(\n",
        "            lambda row: row[wiki_column] if row[kaggle_column] == 0 else row[kaggle_column]\n",
        "            , axis=1)\n",
        "        df.drop(columns=wiki_column, inplace=True)\n",
        "    # 6. Call the function in Step 5 with the DataFrame and columns as the arguments.\n",
        "    fill_missing_kaggle_data(movies_df, 'runtime', 'running_time')\n",
        "    fill_missing_kaggle_data(movies_df, 'budget_kaggle', 'budget_wiki')\n",
        "    fill_missing_kaggle_data(movies_df, 'revenue', 'box_office')\n",
        "    # 7. Filter the movies DataFrame for specific columns.\n",
        "    for col in movies_df.columns:\n",
        "        lists_to_tuples = lambda x: tuple(x) if type(x) == list else x\n",
        "        value_counts = movies_df[col].apply(lists_to_tuples).value_counts(dropna=False)\n",
        "        num_values = len(value_counts)\n",
        "        if num_values == 1:\n",
        "            print(col)\n",
        "    # 8. Rename the columns in the movies DataFrame.\n",
        "    movies_df = movies_df.loc[:, ['imdb_id','id','title_kaggle','original_title','tagline','belongs_to_collection','url','imdb_link',\n",
        "                       'runtime','budget_kaggle','revenue','release_date_kaggle','popularity','vote_average','vote_count',\n",
        "                       'genres','original_language','overview','spoken_languages','Country',\n",
        "                       'production_companies','production_countries','Distributor',\n",
        "                       'Producer(s)','Director','Starring','Cinematography','Editor(s)','Writer(s)','Composer(s)','Based on'\n",
        "                      ]]\n",
        "    movies_df.rename({'id':'kaggle_id',\n",
        "                  'title_kaggle':'title',\n",
        "                  'url':'wikipedia_url',\n",
        "                  'budget_kaggle':'budget',\n",
        "                  'release_date_kaggle':'release_date',\n",
        "                  'Country':'country',\n",
        "                  'Distributor':'distributor',\n",
        "                  'Producer(s)':'producers',\n",
        "                  'Director':'director',\n",
        "                  'Starring':'starring',\n",
        "                  'Cinematography':'cinematography',\n",
        "                  'Editor(s)':'editors',\n",
        "                  'Writer(s)':'writers',\n",
        "                  'Composer(s)':'composers',\n",
        "                  'Based on':'based_on'\n",
        "                 }, axis='columns', inplace=True)      \n",
        "    # 9. Transform and merge the ratings DataFrame.   \n",
        "    movies_with_ratings_df = pd.merge(movies_df, rating_counts, left_on='kaggle_id', right_index=True, how='left')\n",
        "    movies_with_ratings_df[rating_counts.columns] = movies_with_ratings_df[rating_counts.columns].fillna(0)\n",
        "\n"
      ],
      "execution_count": null,
      "outputs": []
    },
    {
      "cell_type": "code",
      "metadata": {
        "id": "G-O9fXb1NXwA",
        "colab_type": "code",
        "colab": {}
      },
      "source": [
        "# location to our database\n",
        "\n",
        "# Use your credentials here\n",
        "username = \"jrhat\"\n",
        "database = \"movie_data\"\n",
        "\n",
        "# change the host to what appears when you run ngrok\n",
        "# you'll see something like\n",
        "# Forwarding                    tcp://0.tcp.ngrok.io:17096 -> localhost:5433\n",
        "# just take the part between :// and : so in the example aboe that would be\n",
        "# 0.tcp.ngrok.io\n",
        "host = \"2.tcp.ngrok.io\" # was \"localhost\" before\n",
        "\n",
        "# similar with the port\n",
        "# choose the port that comes after the host, in example above that's 17096\n",
        "port = 12576\n",
        "\n",
        "\n",
        "uri = f\"postgres+psycopg2://{username}:{db_password}@{host}:{port}/{database}\""
      ],
      "execution_count": 6,
      "outputs": []
    },
    {
      "cell_type": "code",
      "metadata": {
        "id": "YGyPnRmPaMbC",
        "colab_type": "code",
        "colab": {}
      },
      "source": [
        "engine = create_engine(uri)"
      ],
      "execution_count": 7,
      "outputs": []
    },
    {
      "cell_type": "code",
      "metadata": {
        "id": "MaXp3NKBaNLJ",
        "colab_type": "code",
        "colab": {
          "base_uri": "https://localhost:8080/",
          "height": 158
        },
        "outputId": "99a57d15-da10-4b96-b084-70ce90004c11"
      },
      "source": [
        "movies_df.to_sql(name='movies', con=engine)"
      ],
      "execution_count": 8,
      "outputs": [
        {
          "output_type": "error",
          "ename": "NameError",
          "evalue": "ignored",
          "traceback": [
            "\u001b[0;31m---------------------------------------------------------------------------\u001b[0m",
            "\u001b[0;31mNameError\u001b[0m                                 Traceback (most recent call last)",
            "\u001b[0;32m<ipython-input-8-3c451141488d>\u001b[0m in \u001b[0;36m<module>\u001b[0;34m()\u001b[0m\n\u001b[0;32m----> 1\u001b[0;31m \u001b[0mmovies_df\u001b[0m\u001b[0;34m.\u001b[0m\u001b[0mto_sql\u001b[0m\u001b[0;34m(\u001b[0m\u001b[0mname\u001b[0m\u001b[0;34m=\u001b[0m\u001b[0;34m'movies'\u001b[0m\u001b[0;34m,\u001b[0m \u001b[0mcon\u001b[0m\u001b[0;34m=\u001b[0m\u001b[0mengine\u001b[0m\u001b[0;34m)\u001b[0m\u001b[0;34m\u001b[0m\u001b[0;34m\u001b[0m\u001b[0m\n\u001b[0m",
            "\u001b[0;31mNameError\u001b[0m: name 'movies_df' is not defined"
          ]
        }
      ]
    },
    {
      "cell_type": "code",
      "metadata": {
        "id": "xJQ9LT_bkv5J",
        "colab_type": "code",
        "colab": {}
      },
      "source": [
        "rows_imported = 0\n",
        "for data in pd.read_csv(f'{file_dir}ratings.csv', chunksize=1000000):\n",
        "\n",
        "    print(f'importing rows {rows_imported} to {rows_imported + len(data)}...', end='')\n",
        "    data.to_sql(name='ratings', con=engine, if_exists='append')\n",
        "    rows_imported += len(data)\n",
        "\n",
        "    print(f'Done.')"
      ],
      "execution_count": null,
      "outputs": []
    },
    {
      "cell_type": "code",
      "metadata": {
        "id": "cfxBRPqnjFQ0",
        "colab_type": "code",
        "colab": {}
      },
      "source": [
        ""
      ],
      "execution_count": null,
      "outputs": []
    },
    {
      "cell_type": "code",
      "metadata": {
        "id": "w47_fGzPjOBf",
        "colab_type": "code",
        "colab": {}
      },
      "source": [
        "# 10. Create the path to your file directory and variables for the three files.\n",
        "file_dir = 'data'\n",
        "# The Wikipedia data\n",
        "wiki_file = f'{file_dir}/wikipedia.movies.json'\n",
        "# The Kaggle metadata\n",
        "kaggle_file = f'{file_dir}/movies_metadata.csv'\n",
        "# The MovieLens rating data.\n",
        "ratings_file = f'{file_dir}/ratings.csv'"
      ],
      "execution_count": null,
      "outputs": []
    },
    {
      "cell_type": "code",
      "metadata": {
        "id": "EyFLi8jFjQCi",
        "colab_type": "code",
        "colab": {
          "base_uri": "https://localhost:8080/",
          "height": 820
        },
        "outputId": "0c08c09d-3b64-491c-e586-8fe493decfe4"
      },
      "source": [
        "# 11. Set the three variables equal to the function created in D1.\n",
        "wiki_file, kaggle_file, ratings_file = new_function()"
      ],
      "execution_count": null,
      "outputs": [
        {
          "output_type": "stream",
          "text": [
            "/usr/local/lib/python3.6/dist-packages/IPython/core/interactiveshell.py:2822: DtypeWarning: Columns (10) have mixed types.Specify dtype option on import or set low_memory=False.\n",
            "  if self.run_code(code, result):\n"
          ],
          "name": "stderr"
        },
        {
          "output_type": "error",
          "ename": "KeyError",
          "evalue": "ignored",
          "traceback": [
            "\u001b[0;31m---------------------------------------------------------------------------\u001b[0m",
            "\u001b[0;31mKeyError\u001b[0m                                  Traceback (most recent call last)",
            "\u001b[0;32m<ipython-input-15-35823cbe1837>\u001b[0m in \u001b[0;36m<module>\u001b[0;34m()\u001b[0m\n\u001b[1;32m      1\u001b[0m \u001b[0;31m# 11. Set the three variables equal to the function created in D1.\u001b[0m\u001b[0;34m\u001b[0m\u001b[0;34m\u001b[0m\u001b[0;34m\u001b[0m\u001b[0m\n\u001b[0;32m----> 2\u001b[0;31m \u001b[0mwiki_file\u001b[0m\u001b[0;34m,\u001b[0m \u001b[0mkaggle_file\u001b[0m\u001b[0;34m,\u001b[0m \u001b[0mratings_file\u001b[0m \u001b[0;34m=\u001b[0m \u001b[0mnew_function\u001b[0m\u001b[0;34m(\u001b[0m\u001b[0;34m)\u001b[0m\u001b[0;34m\u001b[0m\u001b[0;34m\u001b[0m\u001b[0m\n\u001b[0m",
            "\u001b[0;32m<ipython-input-14-06bd9c43ed61>\u001b[0m in \u001b[0;36mnew_function\u001b[0;34m()\u001b[0m\n\u001b[1;32m    115\u001b[0m     \u001b[0;31m#movies_df[(movies_df['release_date_wiki'] > '1996-01-01') & (movies_df['release_date_kaggle'] < '1965-01-01')].index\u001b[0m\u001b[0;34m\u001b[0m\u001b[0;34m\u001b[0m\u001b[0;34m\u001b[0m\u001b[0m\n\u001b[1;32m    116\u001b[0m     \u001b[0;31m#movies_df = movies_df.drop(movies_df[(movies_df['release_date_wiki'] > '1996-01-01') & (movies_df['release_date_kaggle'] < '1965-01-01')].index)\u001b[0m\u001b[0;34m\u001b[0m\u001b[0;34m\u001b[0m\u001b[0;34m\u001b[0m\u001b[0m\n\u001b[0;32m--> 117\u001b[0;31m     \u001b[0mmovies_df\u001b[0m\u001b[0;34m.\u001b[0m\u001b[0mdrop\u001b[0m\u001b[0;34m(\u001b[0m\u001b[0mcolumns\u001b[0m\u001b[0;34m=\u001b[0m\u001b[0;34m[\u001b[0m\u001b[0;34m'title_wiki'\u001b[0m\u001b[0;34m,\u001b[0m\u001b[0;34m'release_date_wiki'\u001b[0m\u001b[0;34m,\u001b[0m\u001b[0;34m'Language'\u001b[0m\u001b[0;34m,\u001b[0m\u001b[0;34m'Production company(s)'\u001b[0m\u001b[0;34m]\u001b[0m\u001b[0;34m,\u001b[0m \u001b[0minplace\u001b[0m\u001b[0;34m=\u001b[0m\u001b[0;32mTrue\u001b[0m\u001b[0;34m)\u001b[0m\u001b[0;34m\u001b[0m\u001b[0;34m\u001b[0m\u001b[0m\n\u001b[0m\u001b[1;32m    118\u001b[0m     \u001b[0;31m# 5. Add in the function to fill in the missing Kaggle data.\u001b[0m\u001b[0;34m\u001b[0m\u001b[0;34m\u001b[0m\u001b[0;34m\u001b[0m\u001b[0m\n\u001b[1;32m    119\u001b[0m     \u001b[0;32mdef\u001b[0m \u001b[0mfill_missing_kaggle_data\u001b[0m\u001b[0;34m(\u001b[0m\u001b[0mdf\u001b[0m\u001b[0;34m,\u001b[0m \u001b[0mkaggle_column\u001b[0m\u001b[0;34m,\u001b[0m \u001b[0mwiki_column\u001b[0m\u001b[0;34m)\u001b[0m\u001b[0;34m:\u001b[0m\u001b[0;34m\u001b[0m\u001b[0;34m\u001b[0m\u001b[0m\n",
            "\u001b[0;32m/usr/local/lib/python3.6/dist-packages/pandas/core/frame.py\u001b[0m in \u001b[0;36mdrop\u001b[0;34m(self, labels, axis, index, columns, level, inplace, errors)\u001b[0m\n\u001b[1;32m   3995\u001b[0m             \u001b[0mlevel\u001b[0m\u001b[0;34m=\u001b[0m\u001b[0mlevel\u001b[0m\u001b[0;34m,\u001b[0m\u001b[0;34m\u001b[0m\u001b[0;34m\u001b[0m\u001b[0m\n\u001b[1;32m   3996\u001b[0m             \u001b[0minplace\u001b[0m\u001b[0;34m=\u001b[0m\u001b[0minplace\u001b[0m\u001b[0;34m,\u001b[0m\u001b[0;34m\u001b[0m\u001b[0;34m\u001b[0m\u001b[0m\n\u001b[0;32m-> 3997\u001b[0;31m             \u001b[0merrors\u001b[0m\u001b[0;34m=\u001b[0m\u001b[0merrors\u001b[0m\u001b[0;34m,\u001b[0m\u001b[0;34m\u001b[0m\u001b[0;34m\u001b[0m\u001b[0m\n\u001b[0m\u001b[1;32m   3998\u001b[0m         )\n\u001b[1;32m   3999\u001b[0m \u001b[0;34m\u001b[0m\u001b[0m\n",
            "\u001b[0;32m/usr/local/lib/python3.6/dist-packages/pandas/core/generic.py\u001b[0m in \u001b[0;36mdrop\u001b[0;34m(self, labels, axis, index, columns, level, inplace, errors)\u001b[0m\n\u001b[1;32m   3934\u001b[0m         \u001b[0;32mfor\u001b[0m \u001b[0maxis\u001b[0m\u001b[0;34m,\u001b[0m \u001b[0mlabels\u001b[0m \u001b[0;32min\u001b[0m \u001b[0maxes\u001b[0m\u001b[0;34m.\u001b[0m\u001b[0mitems\u001b[0m\u001b[0;34m(\u001b[0m\u001b[0;34m)\u001b[0m\u001b[0;34m:\u001b[0m\u001b[0;34m\u001b[0m\u001b[0;34m\u001b[0m\u001b[0m\n\u001b[1;32m   3935\u001b[0m             \u001b[0;32mif\u001b[0m \u001b[0mlabels\u001b[0m \u001b[0;32mis\u001b[0m \u001b[0;32mnot\u001b[0m \u001b[0;32mNone\u001b[0m\u001b[0;34m:\u001b[0m\u001b[0;34m\u001b[0m\u001b[0;34m\u001b[0m\u001b[0m\n\u001b[0;32m-> 3936\u001b[0;31m                 \u001b[0mobj\u001b[0m \u001b[0;34m=\u001b[0m \u001b[0mobj\u001b[0m\u001b[0;34m.\u001b[0m\u001b[0m_drop_axis\u001b[0m\u001b[0;34m(\u001b[0m\u001b[0mlabels\u001b[0m\u001b[0;34m,\u001b[0m \u001b[0maxis\u001b[0m\u001b[0;34m,\u001b[0m \u001b[0mlevel\u001b[0m\u001b[0;34m=\u001b[0m\u001b[0mlevel\u001b[0m\u001b[0;34m,\u001b[0m \u001b[0merrors\u001b[0m\u001b[0;34m=\u001b[0m\u001b[0merrors\u001b[0m\u001b[0;34m)\u001b[0m\u001b[0;34m\u001b[0m\u001b[0;34m\u001b[0m\u001b[0m\n\u001b[0m\u001b[1;32m   3937\u001b[0m \u001b[0;34m\u001b[0m\u001b[0m\n\u001b[1;32m   3938\u001b[0m         \u001b[0;32mif\u001b[0m \u001b[0minplace\u001b[0m\u001b[0;34m:\u001b[0m\u001b[0;34m\u001b[0m\u001b[0;34m\u001b[0m\u001b[0m\n",
            "\u001b[0;32m/usr/local/lib/python3.6/dist-packages/pandas/core/generic.py\u001b[0m in \u001b[0;36m_drop_axis\u001b[0;34m(self, labels, axis, level, errors)\u001b[0m\n\u001b[1;32m   3968\u001b[0m                 \u001b[0mnew_axis\u001b[0m \u001b[0;34m=\u001b[0m \u001b[0maxis\u001b[0m\u001b[0;34m.\u001b[0m\u001b[0mdrop\u001b[0m\u001b[0;34m(\u001b[0m\u001b[0mlabels\u001b[0m\u001b[0;34m,\u001b[0m \u001b[0mlevel\u001b[0m\u001b[0;34m=\u001b[0m\u001b[0mlevel\u001b[0m\u001b[0;34m,\u001b[0m \u001b[0merrors\u001b[0m\u001b[0;34m=\u001b[0m\u001b[0merrors\u001b[0m\u001b[0;34m)\u001b[0m\u001b[0;34m\u001b[0m\u001b[0;34m\u001b[0m\u001b[0m\n\u001b[1;32m   3969\u001b[0m             \u001b[0;32melse\u001b[0m\u001b[0;34m:\u001b[0m\u001b[0;34m\u001b[0m\u001b[0;34m\u001b[0m\u001b[0m\n\u001b[0;32m-> 3970\u001b[0;31m                 \u001b[0mnew_axis\u001b[0m \u001b[0;34m=\u001b[0m \u001b[0maxis\u001b[0m\u001b[0;34m.\u001b[0m\u001b[0mdrop\u001b[0m\u001b[0;34m(\u001b[0m\u001b[0mlabels\u001b[0m\u001b[0;34m,\u001b[0m \u001b[0merrors\u001b[0m\u001b[0;34m=\u001b[0m\u001b[0merrors\u001b[0m\u001b[0;34m)\u001b[0m\u001b[0;34m\u001b[0m\u001b[0;34m\u001b[0m\u001b[0m\n\u001b[0m\u001b[1;32m   3971\u001b[0m             \u001b[0mresult\u001b[0m \u001b[0;34m=\u001b[0m \u001b[0mself\u001b[0m\u001b[0;34m.\u001b[0m\u001b[0mreindex\u001b[0m\u001b[0;34m(\u001b[0m\u001b[0;34m**\u001b[0m\u001b[0;34m{\u001b[0m\u001b[0maxis_name\u001b[0m\u001b[0;34m:\u001b[0m \u001b[0mnew_axis\u001b[0m\u001b[0;34m}\u001b[0m\u001b[0;34m)\u001b[0m\u001b[0;34m\u001b[0m\u001b[0;34m\u001b[0m\u001b[0m\n\u001b[1;32m   3972\u001b[0m \u001b[0;34m\u001b[0m\u001b[0m\n",
            "\u001b[0;32m/usr/local/lib/python3.6/dist-packages/pandas/core/indexes/base.py\u001b[0m in \u001b[0;36mdrop\u001b[0;34m(self, labels, errors)\u001b[0m\n\u001b[1;32m   5016\u001b[0m         \u001b[0;32mif\u001b[0m \u001b[0mmask\u001b[0m\u001b[0;34m.\u001b[0m\u001b[0many\u001b[0m\u001b[0;34m(\u001b[0m\u001b[0;34m)\u001b[0m\u001b[0;34m:\u001b[0m\u001b[0;34m\u001b[0m\u001b[0;34m\u001b[0m\u001b[0m\n\u001b[1;32m   5017\u001b[0m             \u001b[0;32mif\u001b[0m \u001b[0merrors\u001b[0m \u001b[0;34m!=\u001b[0m \u001b[0;34m\"ignore\"\u001b[0m\u001b[0;34m:\u001b[0m\u001b[0;34m\u001b[0m\u001b[0;34m\u001b[0m\u001b[0m\n\u001b[0;32m-> 5018\u001b[0;31m                 \u001b[0;32mraise\u001b[0m \u001b[0mKeyError\u001b[0m\u001b[0;34m(\u001b[0m\u001b[0;34mf\"{labels[mask]} not found in axis\"\u001b[0m\u001b[0;34m)\u001b[0m\u001b[0;34m\u001b[0m\u001b[0;34m\u001b[0m\u001b[0m\n\u001b[0m\u001b[1;32m   5019\u001b[0m             \u001b[0mindexer\u001b[0m \u001b[0;34m=\u001b[0m \u001b[0mindexer\u001b[0m\u001b[0;34m[\u001b[0m\u001b[0;34m~\u001b[0m\u001b[0mmask\u001b[0m\u001b[0;34m]\u001b[0m\u001b[0;34m\u001b[0m\u001b[0;34m\u001b[0m\u001b[0m\n\u001b[1;32m   5020\u001b[0m         \u001b[0;32mreturn\u001b[0m \u001b[0mself\u001b[0m\u001b[0;34m.\u001b[0m\u001b[0mdelete\u001b[0m\u001b[0;34m(\u001b[0m\u001b[0mindexer\u001b[0m\u001b[0;34m)\u001b[0m\u001b[0;34m\u001b[0m\u001b[0;34m\u001b[0m\u001b[0m\n",
            "\u001b[0;31mKeyError\u001b[0m: \"['release_date_wiki'] not found in axis\""
          ]
        }
      ]
    },
    {
      "cell_type": "code",
      "metadata": {
        "id": "mdaK8b0ujSoM",
        "colab_type": "code",
        "colab": {}
      },
      "source": [
        "# 12. Set the DataFrames from the return statement equal to the file names in Step 11. \n",
        "wiki_movies_df = wiki_file\n",
        "movies_with_ratings_df = kaggle_file\n",
        "movies_df = ratings_file"
      ],
      "execution_count": null,
      "outputs": []
    },
    {
      "cell_type": "code",
      "metadata": {
        "id": "nulsElYQjVEU",
        "colab_type": "code",
        "colab": {}
      },
      "source": [
        "# 13. Check the wiki_movies_df DataFrame. \n",
        "wiki_movies_df.head()"
      ],
      "execution_count": null,
      "outputs": []
    }
  ]
}